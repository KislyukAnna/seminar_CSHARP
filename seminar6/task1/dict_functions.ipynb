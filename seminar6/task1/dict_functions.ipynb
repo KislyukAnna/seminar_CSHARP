{
 "cells": [
  {
   "cell_type": "code",
   "execution_count": null,
   "metadata": {
    "vscode": {
     "languageId": "groovy"
    }
   },
   "outputs": [],
   "source": [
    "// создание рандомного массива\n",
    "int[] GetRandomArray(int size, int minValue, int maxValue)\n",
    "{\n",
    "    int[] array = new int[size];\n",
    "    Random rnd = new Random();\n",
    "    for (int i = 0; i < array.Length; i++)\n",
    "    {\n",
    "        array[i] = rnd.Next(minValue, maxValue + 1);\n",
    "\n",
    "    }\n",
    "    return array;\n",
    "}"
   ]
  },
  {
   "cell_type": "code",
   "execution_count": null,
   "metadata": {
    "vscode": {
     "languageId": "csharp"
    }
   },
   "outputs": [],
   "source": [
    "// создание массива с ручным вводом элементов\n",
    "int[] GetArrayFromConsole()\n",
    "{\n",
    "    Console.Write(\"Size: \");\n",
    "    int size = int.Parse(Console.ReadLine()!);\n",
    "    int[] array = new int[size];\n",
    "\n",
    "    Console.WriteLine($\"Enter {size} elements:\");\n",
    "    for (int i = 0; i < array.Length; i++)\n",
    "    {\n",
    "        array[i] = int.Parse(Console.ReadLine()!);\n",
    "    }\n",
    "    return array;\n",
    "\n",
    "}\n"
   ]
  },
  {
   "cell_type": "code",
   "execution_count": null,
   "metadata": {
    "vscode": {
     "languageId": "ini"
    }
   },
   "outputs": [],
   "source": [
    "// создание рандомного массива с ручным вводом размера массива\n",
    "int[] GetArraySizeFromConsole()\n",
    "{\n",
    "    Console.Write(\"Size (не более 8) : \");\n",
    "    int size = int.Parse(Console.ReadLine()!);\n",
    "    int[] array = new int[size];\n",
    "\n",
    "    Random rnd = new Random();\n",
    "    for (int i = 0; i < array.Length; i++)\n",
    "    {\n",
    "        array[i] = rnd.Next(0, 10);\n",
    "    }\n",
    "    return array;\n",
    "}"
   ]
  },
  {
   "cell_type": "code",
   "execution_count": null,
   "metadata": {
    "vscode": {
     "languageId": "ini"
    }
   },
   "outputs": [],
   "source": [
    "// Преобразование строки в числовой массив\n",
    "var[] array = input.Split(\", \").Select(x => int.Parse(x)).ToArray();"
   ]
  },
  {
   "cell_type": "code",
   "execution_count": null,
   "metadata": {
    "vscode": {
     "languageId": "csharp"
    }
   },
   "outputs": [],
   "source": [
    "// вывод массива\n",
    "void PrintArray(int[] array) // элементы через запятую\n",
    "{\n",
    "    for (int i = 0; i < array.Length; i++)\n",
    "    {\n",
    "        Console.Write(array[i]);\n",
    "        if (i < array.Length - 1)\n",
    "        {\n",
    "            System.Console.WriteLine(\", \");\n",
    "        }\n",
    "    }\n",
    "}"
   ]
  },
  {
   "cell_type": "code",
   "execution_count": null,
   "metadata": {
    "vscode": {
     "languageId": "csharp"
    }
   },
   "outputs": [],
   "source": [
    "// вывод массива\n",
    "void PrintArray(int[] array) // в квадратных скобках, элементы через запятую\n",
    "{\n",
    "    Console.Write(\"[\");\n",
    "    for (int i = 0; i < array.Length; i++)\n",
    "    {\n",
    "        Console.Write(array[i]);\n",
    "        if (i < array.Length - 1)\n",
    "        {\n",
    "            System.Console.WriteLine(\", \");\n",
    "        }\n",
    "    }\n",
    "    Console.WriteLine(\"]\");\n",
    "}"
   ]
  },
  {
   "cell_type": "code",
   "execution_count": null,
   "metadata": {
    "vscode": {
     "languageId": "csharp"
    }
   },
   "outputs": [],
   "source": [
    "// вывод массива строкой\n",
    "Console.WriteLine(\"[\" + string.Join(\", \", array) + \"]\");\n",
    "Console.WriteLine(\"['\" + string.Join(\"', '\", char_array) + \"']\");"
   ]
  },
  {
   "cell_type": "code",
   "execution_count": null,
   "metadata": {
    "vscode": {
     "languageId": "csharp"
    }
   },
   "outputs": [],
   "source": [
    "//функция \"зеркало\" массива\n",
    "int[] ReverseArray(int[] array)\n",
    "{\n",
    "    int temp;\n",
    "    for (int i = 0; i < array.Length / 2; i++)\n",
    "    {\n",
    "        temp = array[i];\n",
    "        array[i] = array[array.Length - 1 - i];\n",
    "        array[array.Length - 1 - i] = temp;\n",
    "    }\n",
    "    return array;\n",
    "}"
   ]
  },
  {
   "cell_type": "code",
   "execution_count": null,
   "metadata": {
    "vscode": {
     "languageId": "csharp"
    }
   },
   "outputs": [],
   "source": [
    "//Определение введено ли число с консоли\n",
    "bool IsNum(int input)\n",
    "{\n",
    "    int output;\n",
    "    bool result = int.TryParse(input, out output);\n",
    "    return result;\n",
    "}"
   ]
  },
  {
   "cell_type": "code",
   "execution_count": null,
   "metadata": {
    "vscode": {
     "languageId": "ini"
    }
   },
   "outputs": [],
   "source": [
    "// функция подсчета элементов массива, отвечающих каким то требваниям\n",
    "int CountPrimeNumbers(int[] array)\n",
    "{\n",
    "    int count = 0;\n",
    "    foreach (var elem in array)\n",
    "    {\n",
    "        if (elem) //(элемент,отвечающий каким то требваниям)\n",
    "        {\n",
    "            count++;\n",
    "        }\n",
    "    }\n",
    "    return count;\n",
    "}"
   ]
  },
  {
   "cell_type": "code",
   "execution_count": null,
   "metadata": {
    "vscode": {
     "languageId": "ini"
    }
   },
   "outputs": [],
   "source": [
    "// Формирование целого числа из цифр из массива.\n",
    "int GetNumberFromArray(int[] array)\n",
    "{\n",
    "    int result = 0;\n",
    "    for (int i = 0; i < array.Length; i++)\n",
    "    {\n",
    "        int temp = array[i] * (int)Math.Pow(10, array.Length - i - 1);\n",
    "        result += temp;\n",
    "    }\n",
    "    return result;\n",
    "}"
   ]
  },
  {
   "cell_type": "code",
   "execution_count": null,
   "metadata": {
    "vscode": {
     "languageId": "ini"
    }
   },
   "outputs": [],
   "source": [
    "//функция определения простых чисел в массиве от 1 до числа number\n",
    "bool IsPrime(int number)\n",
    "{\n",
    "    for (int i = 2; i < number; i++)\n",
    "    {\n",
    "        if (number % i == 0)\n",
    "            return false;\n",
    "    }\n",
    "    return true;\n",
    "}"
   ]
  },
  {
   "cell_type": "code",
   "execution_count": null,
   "metadata": {
    "vscode": {
     "languageId": "cpp"
    }
   },
   "outputs": [],
   "source": [
    "//Сумма цифр числа \n",
    "int SumOfDigits(int number)\n",
    "{\n",
    "    int sum = 0;\n",
    "    while (number > 0)\n",
    "    {\n",
    "        int digit = number % 10;\n",
    "\n",
    "        sum += digit;\n",
    "\n",
    "        number /= 10;\n",
    "    }\n",
    "    return sum;\n",
    "}"
   ]
  },
  {
   "cell_type": "code",
   "execution_count": null,
   "metadata": {
    "vscode": {
     "languageId": "csharp"
    }
   },
   "outputs": [],
   "source": [
    "// Функция создания двумерного массива с рандомными значениями\n",
    "int[,] CreateMatrix(int rowCount, int columsCount)\n",
    "{\n",
    "    int[,] matrix = new int[rowCount, columsCount];\n",
    "\n",
    "    Random rnd = new Random();\n",
    "    // создадим массив рандомно\n",
    "    for (int i = 0; i < matrix.GetLength(0); i++)\n",
    "    {\n",
    "        for (int j = 0; j < matrix.GetLength(1); j++)\n",
    "        {\n",
    "            matrix[i, j] = rnd.Next(1, 11);\n",
    "        }\n",
    "    }\n",
    "    return matrix;\n",
    "}"
   ]
  },
  {
   "cell_type": "code",
   "execution_count": null,
   "metadata": {
    "vscode": {
     "languageId": "ini"
    }
   },
   "outputs": [],
   "source": [
    "// функция вывода двумерного массива\n",
    "void ShowMatrix(int[,] matrix)\n",
    "{\n",
    "    for (int i = 0; i < matrix.GetLength(0); i++)\n",
    "    {\n",
    "        for (int j = 0; j < matrix.GetLength(1); j++)\n",
    "        {\n",
    "            System.Console.Write($\"{matrix[i, j]} \");   //интерполяция строк\n",
    "        }\n",
    "        System.Console.WriteLine();\n",
    "    }\n",
    "}"
   ]
  },
  {
   "cell_type": "markdown",
   "metadata": {},
   "source": [
    "### Строки"
   ]
  },
  {
   "cell_type": "code",
   "execution_count": null,
   "metadata": {
    "vscode": {
     "languageId": "csharp"
    }
   },
   "outputs": [],
   "source": [
    "// функция выделения из строки буквенных символов\n",
    "string GetLettersFromString(string s)\n",
    "{\n",
    "    string letters = \"\";\n",
    "    foreach (char e in s)\n",
    "    {\n",
    "        if (char.IsAsciiLetter(e) == true)\n",
    "        {\n",
    "            letters = letters + e;\n",
    "        }\n",
    "    }\n",
    "    return letters;\n",
    "}"
   ]
  },
  {
   "cell_type": "code",
   "execution_count": null,
   "metadata": {
    "vscode": {
     "languageId": "ini"
    }
   },
   "outputs": [],
   "source": [
    "//функция для формирования строки с обратным порядком слов исходной строки\n",
    "string FormStringInReverseOrder(string input)\n",
    "{\n",
    "    string[] words = input.Split(new char[] { ' ' });\n",
    "\n",
    "    string temp;\n",
    "\n",
    "    for (int i = 0; i < words.Length / 2; i++)\n",
    "    {\n",
    "        temp = words[i];\n",
    "        words[i] = words[words.Length - 1 - i];\n",
    "        words[words.Length - 1 - i] = temp;\n",
    "    }\n",
    "\n",
    "    string revers_text = string.Join(\" \", words);\n",
    "\n",
    "    return revers_text;\n",
    "}"
   ]
  }
 ],
 "metadata": {
  "language_info": {
   "name": "python"
  }
 },
 "nbformat": 4,
 "nbformat_minor": 2
}
